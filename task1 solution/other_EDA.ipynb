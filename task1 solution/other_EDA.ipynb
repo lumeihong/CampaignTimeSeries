{
 "cells": [
  {
   "cell_type": "code",
   "execution_count": 1,
   "metadata": {},
   "outputs": [],
   "source": [
    "import pandas as pd\n",
    "import numpy as np\n",
    "import matplotlib.pyplot as plt\n",
    "import datetime as dt\n",
    "%matplotlib inline"
   ]
  },
  {
   "cell_type": "code",
   "execution_count": 2,
   "metadata": {},
   "outputs": [],
   "source": [
    "#import campnew data as dataframe\n",
    "campnew=pd.read_csv('..\\clean_data\\campnew.csv')\n",
    "campnew['date']=pd.to_datetime(campnew['date'], format='%d/%m/%Y')"
   ]
  },
  {
   "cell_type": "code",
   "execution_count": 3,
   "metadata": {},
   "outputs": [],
   "source": [
    "campnew.drop(['country_x','channel_name_x','business_vertical_x'],axis=1,inplace=True)\n",
    "campnew.rename(columns={'business_vertical_y':'business_vertical','channel_name_y':'channel_name','country_y':'country'}, inplace=True)"
   ]
  },
  {
   "cell_type": "code",
   "execution_count": 8,
   "metadata": {},
   "outputs": [
    {
     "name": "stdout",
     "output_type": "stream",
     "text": [
      "date range is:  2018-09-17 00:00:00 2018-10-04 00:00:00\n"
     ]
    }
   ],
   "source": [
    "print(\"date range is: \", campnew.date.min(), campnew.date.max())"
   ]
  },
  {
   "cell_type": "code",
   "execution_count": 10,
   "metadata": {},
   "outputs": [
    {
     "data": {
      "text/plain": [
       "Unnamed: 0           0\n",
       "date                 0\n",
       "region               0\n",
       "city_code            0\n",
       "strategy_id          0\n",
       "goal_type            0\n",
       "total_spend_cpm      0\n",
       "impressions          0\n",
       "clicks               0\n",
       "conversions          0\n",
       "business_vertical    0\n",
       "channel_name         0\n",
       "country              0\n",
       "dtype: int64"
      ]
     },
     "execution_count": 10,
     "metadata": {},
     "output_type": "execute_result"
    }
   ],
   "source": [
    "campnew.isnull().sum()"
   ]
  },
  {
   "cell_type": "code",
   "execution_count": 11,
   "metadata": {},
   "outputs": [
    {
     "data": {
      "text/html": [
       "<div>\n",
       "<style scoped>\n",
       "    .dataframe tbody tr th:only-of-type {\n",
       "        vertical-align: middle;\n",
       "    }\n",
       "\n",
       "    .dataframe tbody tr th {\n",
       "        vertical-align: top;\n",
       "    }\n",
       "\n",
       "    .dataframe thead th {\n",
       "        text-align: right;\n",
       "    }\n",
       "</style>\n",
       "<table border=\"1\" class=\"dataframe\">\n",
       "  <thead>\n",
       "    <tr style=\"text-align: right;\">\n",
       "      <th></th>\n",
       "      <th>Unnamed: 0</th>\n",
       "      <th>strategy_id</th>\n",
       "      <th>goal_type</th>\n",
       "      <th>total_spend_cpm</th>\n",
       "      <th>impressions</th>\n",
       "      <th>clicks</th>\n",
       "      <th>conversions</th>\n",
       "    </tr>\n",
       "  </thead>\n",
       "  <tbody>\n",
       "    <tr>\n",
       "      <th>count</th>\n",
       "      <td>72181.000000</td>\n",
       "      <td>7.218100e+04</td>\n",
       "      <td>72181.000000</td>\n",
       "      <td>72181.000000</td>\n",
       "      <td>72181.000000</td>\n",
       "      <td>72181.000000</td>\n",
       "      <td>72181.0</td>\n",
       "    </tr>\n",
       "    <tr>\n",
       "      <th>mean</th>\n",
       "      <td>36090.000000</td>\n",
       "      <td>3.764150e+06</td>\n",
       "      <td>0.846400</td>\n",
       "      <td>422.541657</td>\n",
       "      <td>289.891564</td>\n",
       "      <td>0.366980</td>\n",
       "      <td>0.0</td>\n",
       "    </tr>\n",
       "    <tr>\n",
       "      <th>std</th>\n",
       "      <td>20837.004227</td>\n",
       "      <td>3.401922e+04</td>\n",
       "      <td>0.822785</td>\n",
       "      <td>5279.062042</td>\n",
       "      <td>4183.589830</td>\n",
       "      <td>7.103951</td>\n",
       "      <td>0.0</td>\n",
       "    </tr>\n",
       "    <tr>\n",
       "      <th>min</th>\n",
       "      <td>0.000000</td>\n",
       "      <td>3.714868e+06</td>\n",
       "      <td>0.000000</td>\n",
       "      <td>0.242250</td>\n",
       "      <td>0.000000</td>\n",
       "      <td>0.000000</td>\n",
       "      <td>0.0</td>\n",
       "    </tr>\n",
       "    <tr>\n",
       "      <th>25%</th>\n",
       "      <td>18045.000000</td>\n",
       "      <td>3.727983e+06</td>\n",
       "      <td>0.000000</td>\n",
       "      <td>2.807250</td>\n",
       "      <td>1.000000</td>\n",
       "      <td>0.000000</td>\n",
       "      <td>0.0</td>\n",
       "    </tr>\n",
       "    <tr>\n",
       "      <th>50%</th>\n",
       "      <td>36090.000000</td>\n",
       "      <td>3.771828e+06</td>\n",
       "      <td>1.000000</td>\n",
       "      <td>8.638048</td>\n",
       "      <td>4.000000</td>\n",
       "      <td>0.000000</td>\n",
       "      <td>0.0</td>\n",
       "    </tr>\n",
       "    <tr>\n",
       "      <th>75%</th>\n",
       "      <td>54135.000000</td>\n",
       "      <td>3.784636e+06</td>\n",
       "      <td>2.000000</td>\n",
       "      <td>32.842374</td>\n",
       "      <td>18.000000</td>\n",
       "      <td>0.000000</td>\n",
       "      <td>0.0</td>\n",
       "    </tr>\n",
       "    <tr>\n",
       "      <th>max</th>\n",
       "      <td>72180.000000</td>\n",
       "      <td>3.828492e+06</td>\n",
       "      <td>2.000000</td>\n",
       "      <td>374622.032300</td>\n",
       "      <td>374343.000000</td>\n",
       "      <td>661.000000</td>\n",
       "      <td>0.0</td>\n",
       "    </tr>\n",
       "  </tbody>\n",
       "</table>\n",
       "</div>"
      ],
      "text/plain": [
       "         Unnamed: 0   strategy_id     goal_type  total_spend_cpm  \\\n",
       "count  72181.000000  7.218100e+04  72181.000000     72181.000000   \n",
       "mean   36090.000000  3.764150e+06      0.846400       422.541657   \n",
       "std    20837.004227  3.401922e+04      0.822785      5279.062042   \n",
       "min        0.000000  3.714868e+06      0.000000         0.242250   \n",
       "25%    18045.000000  3.727983e+06      0.000000         2.807250   \n",
       "50%    36090.000000  3.771828e+06      1.000000         8.638048   \n",
       "75%    54135.000000  3.784636e+06      2.000000        32.842374   \n",
       "max    72180.000000  3.828492e+06      2.000000    374622.032300   \n",
       "\n",
       "         impressions        clicks  conversions  \n",
       "count   72181.000000  72181.000000      72181.0  \n",
       "mean      289.891564      0.366980          0.0  \n",
       "std      4183.589830      7.103951          0.0  \n",
       "min         0.000000      0.000000          0.0  \n",
       "25%         1.000000      0.000000          0.0  \n",
       "50%         4.000000      0.000000          0.0  \n",
       "75%        18.000000      0.000000          0.0  \n",
       "max    374343.000000    661.000000          0.0  "
      ]
     },
     "execution_count": 11,
     "metadata": {},
     "output_type": "execute_result"
    }
   ],
   "source": [
    "#Standard Deviation is quite useful tool to figure out how the data is spread above or below the mean. The higher the value, the less is reliable or vice versa\n",
    "campnew.describe()"
   ]
  },
  {
   "cell_type": "code",
   "execution_count": 35,
   "metadata": {},
   "outputs": [
    {
     "data": {
      "text/plain": [
       "(array([7.56125743e-03, 2.09592456e-06, 2.09592456e-07, 4.19184911e-07,\n",
       "        3.14388683e-07]),\n",
       " array([  0. , 132.2, 264.4, 396.6, 528.8, 661. ]),\n",
       " <a list of 5 Patch objects>)"
      ]
     },
     "execution_count": 35,
     "metadata": {},
     "output_type": "execute_result"
    },
    {
     "data": {
      "image/png": "[encoded data removed]",
      "text/plain": [
       "<Figure size 432x288 with 1 Axes>"
      ]
     },
     "metadata": {
      "needs_background": "light"
     },
     "output_type": "display_data"
    }
   ],
   "source": [
    "num_bins = 5\n",
    "plt.hist(campnew['clicks'], num_bins, density=1, facecolor='blue', alpha=0.5)"
   ]
  },
  {
   "cell_type": "code",
   "execution_count": 36,
   "metadata": {},
   "outputs": [
    {
     "data": {
      "text/plain": [
       "(array([1.33497026e-05, 4.81117043e-09, 1.48036013e-09, 5.55135049e-10,\n",
       "        1.85045016e-10]),\n",
       " array([     0. ,  74868.6, 149737.2, 224605.8, 299474.4, 374343. ]),\n",
       " <a list of 5 Patch objects>)"
      ]
     },
     "execution_count": 36,
     "metadata": {},
     "output_type": "execute_result"
    },
    {
     "data": {
      "image/png": "[encoded data removed]",
      "text/plain": [
       "<Figure size 432x288 with 1 Axes>"
      ]
     },
     "metadata": {
      "needs_background": "light"
     },
     "output_type": "display_data"
    }
   ],
   "source": [
    "plt.hist(campnew['impressions'], num_bins, density=1, facecolor='blue', alpha=0.5)"
   ]
  },
  {
   "cell_type": "code",
   "execution_count": 38,
   "metadata": {},
   "outputs": [
    {
     "data": {
      "text/plain": [
       "(array([0., 0., 5., 0., 0.]),\n",
       " array([-0.5, -0.3, -0.1,  0.1,  0.3,  0.5]),\n",
       " <a list of 5 Patch objects>)"
      ]
     },
     "execution_count": 38,
     "metadata": {},
     "output_type": "execute_result"
    },
    {
     "data": {
      "image/png": "[encoded data removed]",
      "text/plain": [
       "<Figure size 432x288 with 1 Axes>"
      ]
     },
     "metadata": {
      "needs_background": "light"
     },
     "output_type": "display_data"
    }
   ],
   "source": [
    "plt.hist(campnew['conversions'], num_bins, density=1, facecolor='blue', alpha=0.5)"
   ]
  },
  {
   "cell_type": "code",
   "execution_count": null,
   "metadata": {},
   "outputs": [],
   "source": []
  }
 ],
 "metadata": {
  "kernelspec": {
   "display_name": "Python 3",
   "language": "python",
   "name": "python3"
  },
  "language_info": {
   "codemirror_mode": {
    "name": "ipython",
    "version": 3
   },
   "file_extension": ".py",
   "mimetype": "text/x-python",
   "name": "python",
   "nbconvert_exporter": "python",
   "pygments_lexer": "ipython3",
   "version": "3.7.2"
  }
 },
 "nbformat": 4,
 "nbformat_minor": 4
}
